{
 "cells": [
  {
   "cell_type": "markdown",
   "metadata": {},
   "source": [
    "# Exercises \n",
    "1. How would you define machine learning?\n",
    " - Machine Learning is using computers to answer questions using complex math and statistics to predict an outcome or analyze a variable in as much of an efficient and computationally cheap manner as possible.\n",
    "2. Can you name four types of problems where it shines?\n",
    " - Face Recognition\n",
    " - Spam detection\n",
    " - predicting future outcomes\n",
    " - clustering together similar data points\n",
    "3. What is a labeled training set?\n",
    "    - It is a data set where we know the outcomes prior to choosing our machine learning algorithm\n",
    "4. What are the two most common supervised tasks?\n",
    "    - Regression\n",
    "    - Classification\n",
    "5. Can you name four common unsupervised tasks?\n",
    "    - clustering\n",
    "    - anomaly detection\n",
    "    - dimensionality reduction\n",
    "    - visualization\n",
    "6. What type of machine learning algorithm would you use to allow a robot to walk in various unknown terrains?\n",
    "    - reinforcement learning \n",
    "7. What type of algorithm would you use to segment your customers into multiple groups?\n",
    "    - clustering\n",
    "8. Would you frame the problem of spam detection as a supervised learning problem or an unsupervised learning problem?\n",
    "    - supervised learning\n",
    "9. What is an online learning system?\n",
    "     - online learning systems learning incrementally \n",
    "10. What is an out-of-core learning?\n",
    "    - is chopping up your data in small bits and feeding it into an online learning system so it can compute lots of data efficiently.\n",
    "11. What type of learning algorithm relies on similarity measure to make predictions?\n",
    "    - Instance based learning\n",
    "12. What is the difference between a model parameter and a learning algorithm hyperparameter?\n",
    "    - A model has one or more parameters that determine what it will predict given a new instance (e.g. slope of a linear model). A leanring algorithm tries to find optimal values for these parameters such that the model generalizes well to new instances. A hyperparameter is a parameter of the learning algorithm itself, not of the model, (e.g  the amount of regularization to apply).\n",
    "13. What do model-based learning algorithms search for? What is the most common strategy they use to succeed? How do they make predictions?\n",
    "    - an optimal value for the model parameters such that the model will generalize well to new instances. We usually train such systems by minnimizing a cost function that measures how bad the system is at making predictions on the training data, plus a penalty for model complexity if the model is regulaized. To make predictions, we feed the new instance's features into the model's prediction function, using the parameter values found by the learning algorithm. \n",
    "14. Can you name four of the main challenges in machine learning?\n",
    "    - lack of data\n",
    "    - poor data quality\n",
    "    - underfitting\n",
    "    - overfitting\n",
    "15. If your model performs great on the training data but generalizes poorly to new instances, what is happening? Can you name three possible solutions?\n",
    "    - OVERFITTING! \n",
    "    - if the data set is very small, find more data\n",
    "    - if the features are heavily correlated, remove some of those excessive features\n",
    "    - select a simpler algorithm\n",
    "16. What is a test set, and why would you want to use it?\n",
    "    - A test set is when you split your data into typically an 80/20 split, the 20 being the test data. It is used to mimic the effects of new data being presented to your ML model.\n",
    "17. What is the purpose of a validation set?\n",
    "    - validation set is used to split your data further and analyze the effects your model has on unseen data using multiple models and saving your test data as a final test for your most accurate model after running it on the train/val data.\n",
    "18. What is the train-dev set, when do you need it, and how do you use it?\n",
    "    - the train-dev set is another word for the validation set. Where you would split it from your training set and use it to mimic the models performance on a test set.\n",
    "19. What can go wrong if you tune hyperparameters using the test set?\n",
    "    - it will make your model less likely to perform well on new data. \n",
    "\n"
   ]
  }
 ],
 "metadata": {
  "kernelspec": {
   "display_name": "Python 3",
   "language": "python",
   "name": "python3"
  },
  "language_info": {
   "codemirror_mode": {
    "name": "ipython",
    "version": 3
   },
   "file_extension": ".py",
   "mimetype": "text/x-python",
   "name": "python",
   "nbconvert_exporter": "python",
   "pygments_lexer": "ipython3",
   "version": "3.7.4"
  }
 },
 "nbformat": 4,
 "nbformat_minor": 4
}
