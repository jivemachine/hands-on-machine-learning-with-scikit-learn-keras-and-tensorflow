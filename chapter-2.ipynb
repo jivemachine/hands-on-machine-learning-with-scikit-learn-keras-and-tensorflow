{
 "cells": [
  {
   "cell_type": "markdown",
   "metadata": {},
   "source": [
    "# Example from book\n",
    "## Chapter 2 \n",
    "\"End-to-End Machine Learning Project\"\n",
    "\n",
    "In this chapter I will work through an example project end to end, role playing as if I'm working for a real estate company that recently hired a data scientist. The step's I will be going through:\n",
    "- Looking at the big picture\n",
    "- Acquiring the data\n",
    "- Discovering & visualizing the data to gain insights\n",
    "- Preparing the data for machine learning algorithms\n",
    "- select a model and train it\n",
    "- fine-tune the model\n",
    "- present the solution\n",
    "- launch, monitor, & maintain my system"
   ]
  },
  {
   "cell_type": "markdown",
   "metadata": {},
   "source": [
    "### The machine learning project checklist\n",
    "(from the book)\n",
    "8 steps:\n",
    "1. Frame the problem and look at the big picture.\n",
    "2. Get the data.\n",
    "3. Explore the data to gain insights.\n",
    "4. Preparing the data to better expose the underlying data patterns to Machine Learning algorithms.\n",
    "5. Explore many different models and shortlist the best ones.\n",
    "6. Fine-tune your models and combine them into a great solution.\n",
    "7. Present your solution.\n",
    "8. Launch, monitor, and maintain your system. "
   ]
  },
  {
   "cell_type": "code",
   "execution_count": null,
   "metadata": {},
   "outputs": [],
   "source": []
  }
 ],
 "metadata": {
  "kernelspec": {
   "display_name": "Python 3",
   "language": "python",
   "name": "python3"
  },
  "language_info": {
   "codemirror_mode": {
    "name": "ipython",
    "version": 3
   },
   "file_extension": ".py",
   "mimetype": "text/x-python",
   "name": "python",
   "nbconvert_exporter": "python",
   "pygments_lexer": "ipython3",
   "version": "3.7.4"
  }
 },
 "nbformat": 4,
 "nbformat_minor": 4
}
